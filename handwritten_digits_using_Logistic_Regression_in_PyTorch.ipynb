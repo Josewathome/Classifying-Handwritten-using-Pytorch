{
  "cells": [
    {
      "cell_type": "markdown",
      "id": "4d4e3fd3-c544-4c1d-8294-b495ff4dc4e4",
      "metadata": {
        "id": "4d4e3fd3-c544-4c1d-8294-b495ff4dc4e4"
      },
      "source": [
        "# Identifying handwritten digits using Logistic Regression in PyTorch"
      ]
    },
    {
      "cell_type": "markdown",
      "id": "f0fae0a4-15d0-465b-9985-668f2255f45e",
      "metadata": {
        "id": "f0fae0a4-15d0-465b-9985-668f2255f45e"
      },
      "source": [
        "Logistic Regressio allows us to predict a binary output from a set of independent variables."
      ]
    },
    {
      "cell_type": "markdown",
      "id": "cf754229-1bf6-4f33-8c01-fd79d9ff1bc3",
      "metadata": {
        "id": "cf754229-1bf6-4f33-8c01-fd79d9ff1bc3"
      },
      "source": [
        "### Importing Libraries"
      ]
    },
    {
      "cell_type": "code",
      "execution_count": 26,
      "id": "2bf97ea3-44c1-4478-8b50-c89092169823",
      "metadata": {
        "id": "2bf97ea3-44c1-4478-8b50-c89092169823"
      },
      "outputs": [],
      "source": [
        "import torch\n",
        "import torch.nn as nn\n",
        "import torchvision.datasets as dsets\n",
        "import torchvision.transforms as transforms\n",
        "from torch.autograd import Variable"
      ]
    },
    {
      "cell_type": "markdown",
      "id": "02c743ed-805e-4b93-b1f3-69eb0837b72d",
      "metadata": {
        "id": "02c743ed-805e-4b93-b1f3-69eb0837b72d"
      },
      "source": [
        "### Loading the MNIST DATASETS(images and labels)"
      ]
    },
    {
      "cell_type": "code",
      "execution_count": 27,
      "id": "11dd23db-7e5b-4b03-949d-517e71b6cb1d",
      "metadata": {
        "id": "11dd23db-7e5b-4b03-949d-517e71b6cb1d"
      },
      "outputs": [],
      "source": [
        "train_dataset = dsets.MNIST(root ='./data',\n",
        "                            train = True,\n",
        "                            transform = transforms.ToTensor(),\n",
        "                            download = True)\n",
        "test_dataset = dsets.MNIST(root ='./data',\n",
        "                           train = False,\n",
        "                           transform = transforms.ToTensor())"
      ]
    },
    {
      "cell_type": "markdown",
      "source": [
        "### Defining my HyperParameters"
      ],
      "metadata": {
        "id": "9K_yXXLD0U8R"
      },
      "id": "9K_yXXLD0U8R"
    },
    {
      "cell_type": "code",
      "source": [
        "input_size = 784 # The data set is 28 * 28 thus input size will be 784\n",
        "num_classes = 10 # we have 10 digitstherefor we expect 10 different outputs\n",
        "num_epochs = 5\n",
        "batch_size = 100\n",
        "learning_rate = 0.001"
      ],
      "metadata": {
        "id": "_x5JGZ8X0UHg"
      },
      "id": "_x5JGZ8X0UHg",
      "execution_count": 28,
      "outputs": []
    },
    {
      "cell_type": "markdown",
      "source": [
        "In our dataset the image size is 28*28. Thus the input sizeis 784. also 10 digits are present in this and hense I can have 10 different outputs. Thus I set num_classes as 10 also we shall train five times the entire dataset and then we will train in small batches of 100 images a time, this is to prevent crashing due to memory overload"
      ],
      "metadata": {
        "id": "XT83ApDI1KTV"
      },
      "id": "XT83ApDI1KTV"
    },
    {
      "cell_type": "markdown",
      "id": "cbf9d78c-e03b-4a9a-bed7-d15972a52ac7",
      "metadata": {
        "id": "cbf9d78c-e03b-4a9a-bed7-d15972a52ac7"
      },
      "source": [
        "### Dataset Loader (Input Pipeline)"
      ]
    },
    {
      "cell_type": "code",
      "execution_count": 29,
      "id": "7c3e3273-77fe-405f-bde4-de9404b79872",
      "metadata": {
        "id": "7c3e3273-77fe-405f-bde4-de9404b79872"
      },
      "outputs": [],
      "source": [
        "train_loader= torch.utils.data.DataLoader(dataset = train_dataset,\n",
        "                                          batch_size = batch_size,\n",
        "                                          shuffle = True)\n",
        "\n",
        "test_loader= torch.utils.data.DataLoader(dataset = test_dataset,\n",
        "                                          batch_size = batch_size,\n",
        "                                          shuffle = False)"
      ]
    },
    {
      "cell_type": "markdown",
      "id": "62850e7d-3066-4470-a4ec-9ca9f2782aee",
      "metadata": {
        "id": "62850e7d-3066-4470-a4ec-9ca9f2782aee"
      },
      "source": [
        "## Defining the model"
      ]
    },
    {
      "cell_type": "code",
      "execution_count": 30,
      "id": "33b1654a-a7c6-4414-a14d-1390fd52913f",
      "metadata": {
        "id": "33b1654a-a7c6-4414-a14d-1390fd52913f"
      },
      "outputs": [],
      "source": [
        "class LogisticRegression(nn.Module):\n",
        "    def __init__(self, input_size, num_classes):\n",
        "        super(LogisticRegression, self).__init__()\n",
        "        self.linear = nn.Linear(input_size, num_classes)\n",
        "\n",
        "    def forward(self, x):\n",
        "        out = self.linear(x)\n",
        "        return out\n",
        ""
      ]
    },
    {
      "cell_type": "markdown",
      "id": "93c15bff-4f57-471c-94d5-fea7e3e8ea36",
      "metadata": {
        "id": "93c15bff-4f57-471c-94d5-fea7e3e8ea36"
      },
      "source": [
        "I have our class I will ow insatntiate an object"
      ]
    },
    {
      "cell_type": "code",
      "execution_count": 31,
      "id": "1cd0bc27-453e-4477-b0ef-d2b69ebf8bfc",
      "metadata": {
        "id": "1cd0bc27-453e-4477-b0ef-d2b69ebf8bfc"
      },
      "outputs": [],
      "source": [
        "model = LogisticRegression(input_size, num_classes)"
      ]
    },
    {
      "cell_type": "markdown",
      "id": "36d947f0-c19d-41b4-b13f-99b747ff12ef",
      "metadata": {
        "id": "36d947f0-c19d-41b4-b13f-99b747ff12ef"
      },
      "source": [
        "# I will set up now the Loss function AND optimizer\n",
        " i will use the cROSS ENTROPY LOSS AND FOR OPTIMIZER the STOCHASTIC GRADIENT DESCENT ALGORITHM(**SGD**) with a learning rate of 0.001\n"
      ]
    },
    {
      "cell_type": "code",
      "execution_count": 32,
      "id": "f90a76d6-5eef-453f-a1d2-4787d19606cf",
      "metadata": {
        "id": "f90a76d6-5eef-453f-a1d2-4787d19606cf"
      },
      "outputs": [],
      "source": [
        "criterion = nn.CrossEntropyLoss()\n",
        "optimizer = torch. optim.SGD(model.parameters(), lr = learning_rate)"
      ]
    },
    {
      "cell_type": "markdown",
      "id": "c77b2d54-382e-4eca-bf33-f163f1d07bd8",
      "metadata": {
        "id": "c77b2d54-382e-4eca-bf33-f163f1d07bd8"
      },
      "source": [
        "Now i will TRAIN BY DOING THE FOLLOWING:\n",
        "\n",
        " - Reset all gradients to 0\n",
        " - make a foward pass.\n",
        " - Calculate the Loss.\n",
        " - Perform backpropagation\n",
        " - Update all weights."
      ]
    },
    {
      "cell_type": "code",
      "execution_count": 35,
      "id": "675839bf-f64c-4133-8f8b-8dea8c423fd1",
      "metadata": {
        "colab": {
          "base_uri": "https://localhost:8080/"
        },
        "id": "675839bf-f64c-4133-8f8b-8dea8c423fd1",
        "outputId": "fb8e2ed9-485a-4b36-c91d-1e6d95990d62"
      },
      "outputs": [
        {
          "output_type": "stream",
          "name": "stdout",
          "text": [
            "Epoch: [ 1/ 5], step: [ 100/ 600], Loss: 2.0439\n",
            "Epoch: [ 1/ 5], step: [ 200/ 600], Loss: 1.9783\n",
            "Epoch: [ 1/ 5], step: [ 300/ 600], Loss: 1.8991\n",
            "Epoch: [ 1/ 5], step: [ 400/ 600], Loss: 1.8438\n",
            "Epoch: [ 1/ 5], step: [ 500/ 600], Loss: 1.7745\n",
            "Epoch: [ 1/ 5], step: [ 600/ 600], Loss: 1.7251\n",
            "Epoch: [ 2/ 5], step: [ 100/ 600], Loss: 1.6573\n",
            "Epoch: [ 2/ 5], step: [ 200/ 600], Loss: 1.5776\n",
            "Epoch: [ 2/ 5], step: [ 300/ 600], Loss: 1.4355\n",
            "Epoch: [ 2/ 5], step: [ 400/ 600], Loss: 1.4768\n",
            "Epoch: [ 2/ 5], step: [ 500/ 600], Loss: 1.4803\n",
            "Epoch: [ 2/ 5], step: [ 600/ 600], Loss: 1.3828\n",
            "Epoch: [ 3/ 5], step: [ 100/ 600], Loss: 1.3586\n",
            "Epoch: [ 3/ 5], step: [ 200/ 600], Loss: 1.3386\n",
            "Epoch: [ 3/ 5], step: [ 300/ 600], Loss: 1.3194\n",
            "Epoch: [ 3/ 5], step: [ 400/ 600], Loss: 1.2341\n",
            "Epoch: [ 3/ 5], step: [ 500/ 600], Loss: 1.2819\n",
            "Epoch: [ 3/ 5], step: [ 600/ 600], Loss: 1.1710\n",
            "Epoch: [ 4/ 5], step: [ 100/ 600], Loss: 1.2103\n",
            "Epoch: [ 4/ 5], step: [ 200/ 600], Loss: 1.1192\n",
            "Epoch: [ 4/ 5], step: [ 300/ 600], Loss: 1.0727\n",
            "Epoch: [ 4/ 5], step: [ 400/ 600], Loss: 1.0533\n",
            "Epoch: [ 4/ 5], step: [ 500/ 600], Loss: 1.0732\n",
            "Epoch: [ 4/ 5], step: [ 600/ 600], Loss: 0.9672\n",
            "Epoch: [ 5/ 5], step: [ 100/ 600], Loss: 1.0434\n",
            "Epoch: [ 5/ 5], step: [ 200/ 600], Loss: 0.9916\n",
            "Epoch: [ 5/ 5], step: [ 300/ 600], Loss: 0.9735\n",
            "Epoch: [ 5/ 5], step: [ 400/ 600], Loss: 0.8881\n",
            "Epoch: [ 5/ 5], step: [ 500/ 600], Loss: 1.0379\n",
            "Epoch: [ 5/ 5], step: [ 600/ 600], Loss: 1.0080\n"
          ]
        }
      ],
      "source": [
        "# Training the model\n",
        "for epoch in range(num_epochs):\n",
        "    for i, (images,labels) in enumerate(train_loader):\n",
        "        images = Variable(images.view(-1, 28*28))\n",
        "        labels = Variable(labels)\n",
        "\n",
        "        # Forward + Backword + Optimize\n",
        "        optimizer.zero_grad()\n",
        "        outputs =  model(images)\n",
        "        loss = criterion(outputs, labels)\n",
        "        loss.backward()\n",
        "        optimizer.step()\n",
        "\n",
        "        if (i+1) % 100 ==0:\n",
        "            print ('Epoch: [% d/% d], step: [% d/% d], Loss: %.4f' %(epoch+1, num_epochs, i+1, len(train_dataset) // batch_size, loss.item()))\n",
        "\n"
      ]
    },
    {
      "cell_type": "markdown",
      "id": "56b38aac-aef5-432f-b0df-965a80c82a50",
      "metadata": {
        "id": "56b38aac-aef5-432f-b0df-965a80c82a50"
      },
      "source": [
        "## Now testing out the model"
      ]
    },
    {
      "cell_type": "code",
      "execution_count": 37,
      "id": "2348d931-c2f8-4e47-aa25-156805796121",
      "metadata": {
        "colab": {
          "base_uri": "https://localhost:8080/"
        },
        "id": "2348d931-c2f8-4e47-aa25-156805796121",
        "outputId": "22362f79-28f8-43c5-e6ba-cb8f75dbb3bc"
      },
      "outputs": [
        {
          "output_type": "stream",
          "name": "stdout",
          "text": [
            "Accuracy of the model on the 10000 test images:  83 %\n"
          ]
        }
      ],
      "source": [
        "# Model testing\n",
        "correct = 0\n",
        "total = 0\n",
        "for images, labels in test_loader:\n",
        "    images = Variable(images.view(-1, 28*28))\n",
        "    outputs = model(images)\n",
        "    _,predicted = torch.max(outputs.data, 1)\n",
        "    total += labels.size(0)\n",
        "    correct +=(predicted == labels).sum()\n",
        "\n",
        "print('Accuracy of the model on the 10000 test images: % d %%'%(100* correct / total))"
      ]
    }
  ],
  "metadata": {
    "kernelspec": {
      "display_name": "Python 3 (ipykernel)",
      "language": "python",
      "name": "python3"
    },
    "language_info": {
      "codemirror_mode": {
        "name": "ipython",
        "version": 3
      },
      "file_extension": ".py",
      "mimetype": "text/x-python",
      "name": "python",
      "nbconvert_exporter": "python",
      "pygments_lexer": "ipython3",
      "version": "3.11.5"
    },
    "colab": {
      "provenance": []
    }
  },
  "nbformat": 4,
  "nbformat_minor": 5
}